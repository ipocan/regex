{
 "cells": [
  {
   "cell_type": "markdown",
   "metadata": {},
   "source": [
    "# Topic today:\n",
    "## findall vs. finditer\n",
    "## how to use regex 101"
   ]
  },
  {
   "cell_type": "markdown",
   "metadata": {},
   "source": [
    "**Findall**: get a list of all matching patterns\n",
    "\n",
    "**Findinter**: return an iterator yielding MatchObject instances using the pattern"
   ]
  },
  {
   "cell_type": "code",
   "execution_count": 3,
   "metadata": {},
   "outputs": [],
   "source": [
    "import re\n",
    "\n",
    "text = \"I carefully entered the room but my cat Lily noticed me immediately.\""
   ]
  },
  {
   "cell_type": "code",
   "execution_count": 8,
   "metadata": {},
   "outputs": [
    {
     "name": "stdout",
     "output_type": "stream",
     "text": [
      "['carefully', 'immediately']\n"
     ]
    }
   ],
   "source": [
    "# adverbs in the text\n",
    "# ends -ly\n",
    "#lowercase\n",
    "\n",
    "\n",
    "pattern = \"[a-z][a-z]+ly\"\n",
    "\n",
    "findall_result = re.findall(pattern, text)\n",
    "print(findall_result)"
   ]
  },
  {
   "cell_type": "code",
   "execution_count": 9,
   "metadata": {},
   "outputs": [
    {
     "name": "stdout",
     "output_type": "stream",
     "text": [
      "<class 'list'>\n"
     ]
    }
   ],
   "source": [
    "print (type(findall_result))"
   ]
  },
  {
   "cell_type": "code",
   "execution_count": 10,
   "metadata": {},
   "outputs": [
    {
     "name": "stdout",
     "output_type": "stream",
     "text": [
      "<callable_iterator object at 0x7fc8b92dc640>\n",
      "<class 'callable_iterator'>\n"
     ]
    }
   ],
   "source": [
    "finditer_result = re.finditer(pattern,text)\n",
    "print(finditer_result)\n",
    "print(type(finditer_result))"
   ]
  },
  {
   "cell_type": "code",
   "execution_count": 12,
   "metadata": {},
   "outputs": [
    {
     "name": "stdout",
     "output_type": "stream",
     "text": [
      "<re.Match object; span=(2, 11), match='carefully'>\n",
      "<class 're.Match'>\n",
      "['__class__', '__copy__', '__deepcopy__', '__delattr__', '__dir__', '__doc__', '__eq__', '__format__', '__ge__', '__getattribute__', '__getitem__', '__gt__', '__hash__', '__init__', '__init_subclass__', '__le__', '__lt__', '__ne__', '__new__', '__reduce__', '__reduce_ex__', '__repr__', '__setattr__', '__sizeof__', '__str__', '__subclasshook__', 'end', 'endpos', 'expand', 'group', 'groupdict', 'groups', 'lastgroup', 'lastindex', 'pos', 're', 'regs', 'span', 'start', 'string']\n",
      "<re.Match object; span=(56, 67), match='immediately'>\n",
      "<class 're.Match'>\n",
      "['__class__', '__copy__', '__deepcopy__', '__delattr__', '__dir__', '__doc__', '__eq__', '__format__', '__ge__', '__getattribute__', '__getitem__', '__gt__', '__hash__', '__init__', '__init_subclass__', '__le__', '__lt__', '__ne__', '__new__', '__reduce__', '__reduce_ex__', '__repr__', '__setattr__', '__sizeof__', '__str__', '__subclasshook__', 'end', 'endpos', 'expand', 'group', 'groupdict', 'groups', 'lastgroup', 'lastindex', 'pos', 're', 'regs', 'span', 'start', 'string']\n"
     ]
    }
   ],
   "source": [
    "finditer_result = re.finditer(pattern,text)\n",
    "\n",
    "for item in finditer_result:\n",
    "    print(item)\n",
    "    print(type(item))\n",
    "    print(dir(item))"
   ]
  },
  {
   "cell_type": "code",
   "execution_count": 15,
   "metadata": {},
   "outputs": [
    {
     "name": "stdout",
     "output_type": "stream",
     "text": [
      "I carefully entered the room but my cat Lily noticed me immediately.\n",
      "carefully\n",
      "(2, 11)\n",
      "<class 're.Match'>\n",
      "I carefully entered the room but my cat Lily noticed me immediately.\n",
      "immediately\n",
      "(56, 67)\n",
      "<class 're.Match'>\n"
     ]
    }
   ],
   "source": [
    "finditer_result = re.finditer(pattern,text)\n",
    "\n",
    "\n",
    "for item in finditer_result:\n",
    "    print(item.string)\n",
    "    print(item.group())\n",
    "    print(item.span())\n",
    "    print(type(item))\n",
    "    "
   ]
  },
  {
   "cell_type": "markdown",
   "metadata": {},
   "source": [
    "# Extracting names"
   ]
  },
  {
   "cell_type": "code",
   "execution_count": 39,
   "metadata": {},
   "outputs": [
    {
     "name": "stdout",
     "output_type": "stream",
     "text": [
      "Ronald Mayr: A 505-345-5816 rmay@gmail.com 1989-04-20\n",
      "Bell Kassulke: B 714-325-5816 bkassulke@umich.edu 1990/03/20\n",
      "Jacqueline Rupp: A 734-851-2281 jrupp@fancy.org 1978-05-11\n",
      "Alexander Zeller: C 853-395-1492 azller@samsung.co.kr 1985-10-30\n",
      "Valentina Denk: C 492.333.1932 vdenk@weird-email.com 1993-01-02\n",
      "Lola-Rose Coates: C 593*492*3212 lr-coates@something.net 1992-08-15\n"
     ]
    }
   ],
   "source": [
    "text = \"\"\"Ronald Mayr: A 505-345-5816 rmay@gmail.com 1989-04-20\n",
    "Bell Kassulke: B 714-325-5816 bkassulke@umich.edu 1990/03/20\n",
    "Jacqueline Rupp: A 734-851-2281 jrupp@fancy.org 1978-05-11\n",
    "Alexander Zeller: C 853-395-1492 azller@samsung.co.kr 1985-10-30\n",
    "Valentina Denk: C 492.333.1932 vdenk@weird-email.com 1993-01-02\n",
    "Lola-Rose Coates: C 593*492*3212 lr-coates@something.net 1992-08-15\"\"\"\n",
    "\n",
    "print(text)"
   ]
  },
  {
   "cell_type": "code",
   "execution_count": 21,
   "metadata": {},
   "outputs": [
    {
     "name": "stdout",
     "output_type": "stream",
     "text": [
      "['Ronald Mayr', 'Bell Kassulke', 'Jacqueline Rupp', 'Alexander Zeller', 'Valentina Denk', 'Rose Coates']\n"
     ]
    }
   ],
   "source": [
    "pattern = \"[A-Za-z]+\\s[A-Za-z]+\"\n",
    "\n",
    "match_names = re.findall(pattern, text)\n",
    "print(match_names)"
   ]
  },
  {
   "cell_type": "code",
   "execution_count": 22,
   "metadata": {},
   "outputs": [
    {
     "name": "stdout",
     "output_type": "stream",
     "text": [
      "['Ronald M', 'Bell K', 'Jacqueline R', 'Alexander Z', 'Valentina D', 'Lola-Rose C']\n"
     ]
    }
   ],
   "source": [
    "pattern = \"[A-Za-z-]+\\s[A-Za-z]\"\n",
    "\n",
    "match_names = re.findall(pattern, text)\n",
    "print(match_names)"
   ]
  },
  {
   "cell_type": "code",
   "execution_count": 23,
   "metadata": {},
   "outputs": [
    {
     "name": "stdout",
     "output_type": "stream",
     "text": [
      "['Ronald Mayr', 'Bell Kassulke', 'Jacqueline Rupp', 'Alexander Zeller', 'Valentina Denk', 'Lola-Rose Coates']\n"
     ]
    }
   ],
   "source": [
    "pattern = \"[A-Za-z-]+\\s[A-Za-z]+\"\n",
    "\n",
    "match_names = re.findall(pattern, text)\n",
    "print(match_names)"
   ]
  },
  {
   "cell_type": "markdown",
   "metadata": {},
   "source": [
    "## Extracting phone numbers "
   ]
  },
  {
   "cell_type": "code",
   "execution_count": 24,
   "metadata": {},
   "outputs": [
    {
     "name": "stdout",
     "output_type": "stream",
     "text": [
      "['505-345-5816', '714-325-5816', '734-851-2281', '853-395-1492', '492.333.1932', '593*492*3212']\n"
     ]
    }
   ],
   "source": [
    "pattern = \"\\d{3}[.*-]\\d{3}[.*-]\\d{4}\"\n",
    "match_phnumbers = re.findall(pattern, text)\n",
    "print(match_phnumbers)"
   ]
  },
  {
   "cell_type": "markdown",
   "metadata": {},
   "source": [
    "## Extracting Grades"
   ]
  },
  {
   "cell_type": "code",
   "execution_count": 27,
   "metadata": {},
   "outputs": [
    {
     "name": "stdout",
     "output_type": "stream",
     "text": [
      "['A', 'B', 'A', 'C', 'C', 'C']\n"
     ]
    }
   ],
   "source": [
    "pattern = \"(?<=:\\s)[A-F]{1}(?=\\s)\"\n",
    "match_grades = re.findall(pattern, text)\n",
    "print(match_grades)"
   ]
  },
  {
   "cell_type": "markdown",
   "metadata": {},
   "source": [
    "## Extracting Emails"
   ]
  },
  {
   "cell_type": "code",
   "execution_count": 35,
   "metadata": {},
   "outputs": [
    {
     "name": "stdout",
     "output_type": "stream",
     "text": [
      "['rmay@gmail.com', 'bkassulke@umich.edu', 'jrupp@fancy.org', 'azller@samsung.co.kr', 'vdenk@weird-email.com', 'lr-coates@something.net']\n"
     ]
    }
   ],
   "source": [
    "pattern = \"\\w+?-?\\w+@\\w+.\\w+.[a-z]+\"\n",
    "match_emails = re.findall(pattern, text)\n",
    "print(match_emails)"
   ]
  },
  {
   "cell_type": "markdown",
   "metadata": {},
   "source": [
    "## Extract Birthday"
   ]
  },
  {
   "cell_type": "code",
   "execution_count": 41,
   "metadata": {},
   "outputs": [
    {
     "name": "stdout",
     "output_type": "stream",
     "text": [
      "['1989-04-20', '1990/03/20', '1978-05-11', '1985-10-30', '1993-01-02', '1992-08-15']\n"
     ]
    }
   ],
   "source": [
    "pattern =\"\\d{4}[-/]\\d{2}[-/]\\d{2}\"\n",
    "match_bdays = re.findall(pattern, text)\n",
    "print(match_bdays)"
   ]
  },
  {
   "cell_type": "markdown",
   "metadata": {},
   "source": [
    "## Group referencing\n",
    "\n",
    "* (?!) negative lookahead\n",
    "* (?=) positive lookahead\n",
    "* (?<=) posiive lookbehind\n",
    "* (?<!) negative lookbehind"
   ]
  },
  {
   "cell_type": "markdown",
   "metadata": {},
   "source": [
    "string = **foobarbarfoo**\n",
    "\n",
    "* **bar(?=bar)* find the 1st bar(\"bar\" which has \"bar\" after it)\n",
    "* **bar(?!bar)** find the 2nd bar (\"bar\" which doeant have \"bar\" after it)\n",
    "* **(?<=foo)bar** finds the 1st bar (\"bar\" which has \"foo\" before it)\n",
    "* **(?<!foo)bar** finds the 2nd bar (\"bar\" which doesnt have \"foo\" before it)"
   ]
  },
  {
   "cell_type": "markdown",
   "metadata": {},
   "source": [
    "## Extract names using lookahed"
   ]
  },
  {
   "cell_type": "code",
   "execution_count": 42,
   "metadata": {},
   "outputs": [
    {
     "name": "stdout",
     "output_type": "stream",
     "text": [
      "Ronald Mayr: A 505-345-5816 rmay@gmail.com 1989-04-20\n",
      "Bell Kassulke: B 714-325-5816 bkassulke@umich.edu 1990/03/20\n",
      "Jacqueline Rupp: A 734-851-2281 jrupp@fancy.org 1978-05-11\n",
      "Alexander Zeller: C 853-395-1492 azller@samsung.co.kr 1985-10-30\n",
      "Valentina Denk: C 492.333.1932 vdenk@weird-email.com 1993-01-02\n",
      "Lola-Rose Coates: C 593*492*3212 lr-coates@something.net 1992-08-15\n"
     ]
    }
   ],
   "source": [
    "print(text)"
   ]
  },
  {
   "cell_type": "code",
   "execution_count": 43,
   "metadata": {},
   "outputs": [
    {
     "data": {
      "text/plain": [
       "['Ronald Mayr',\n",
       " 'Bell Kassulke',\n",
       " 'Jacqueline Rupp',\n",
       " 'Alexander Zeller',\n",
       " 'Valentina Denk',\n",
       " 'Lola-Rose Coates']"
      ]
     },
     "execution_count": 43,
     "metadata": {},
     "output_type": "execute_result"
    }
   ],
   "source": [
    "# match all characters before the colon:\n",
    "pattern =   \"\"\".+   # match everything\n",
    "            (?=:) # before the colon\n",
    "            \"\"\"\n",
    "\n",
    "match_names = re.findall(pattern,text,re.VERBOSE)\n",
    "# re.VERBOSE allows us to comment on regex pattern, making the code more readable\n",
    "match_names"
   ]
  },
  {
   "cell_type": "code",
   "execution_count": 44,
   "metadata": {},
   "outputs": [
    {
     "data": {
      "text/plain": [
       "['A', 'B', 'A', 'C', 'C', 'C']"
      ]
     },
     "execution_count": 44,
     "metadata": {},
     "output_type": "execute_result"
    }
   ],
   "source": [
    "\n",
    "pattern =   \"\"\"(?<=:\\s)   # after the colon and space\n",
    "            \\w # match a single character\n",
    "            \"\"\"\n",
    "\n",
    "match_grades = re.findall(pattern,text,re.VERBOSE)\n",
    "# re.VERBOSE allows us to comment on regex pattern, making the code more readable\n",
    "match_grades"
   ]
  },
  {
   "cell_type": "markdown",
   "metadata": {},
   "source": [
    "## Extracting usernames using lookahed"
   ]
  },
  {
   "cell_type": "code",
   "execution_count": 45,
   "metadata": {},
   "outputs": [
    {
     "data": {
      "text/plain": [
       "['rmay', 'bkassulke', 'jrupp', 'azller', 'vdenk', 'lr-coates']"
      ]
     },
     "execution_count": 45,
     "metadata": {},
     "output_type": "execute_result"
    }
   ],
   "source": [
    "\n",
    "pattern =   \"\"\"\\w+-?\\w+   # match all characters with or without hypen\n",
    "            (?=@) # before the @ colon\n",
    "            \"\"\"\n",
    "\n",
    "match_usernames = re.findall(pattern,text,re.VERBOSE)\n",
    "# re.VERBOSE allows us to comment on regex pattern, making the code more readable\n",
    "match_usernames"
   ]
  },
  {
   "cell_type": "markdown",
   "metadata": {},
   "source": [
    "## Backreference with capture groups\n",
    "\n",
    "* () captured group\n",
    "* (?:) non-captured group"
   ]
  },
  {
   "cell_type": "code",
   "execution_count": 47,
   "metadata": {},
   "outputs": [
    {
     "data": {
      "text/plain": [
       "['Ronald Mayr: A 505-345-5816 rmay@gmail.com 1989-04-20',\n",
       " 'Bell Kassulke: B 714-325-5816 bkassulke@umich.edu 1990/03/20',\n",
       " 'Jacqueline Rupp: A 734-851-2281 jrupp@fancy.org 1978-05-11',\n",
       " 'Alexander Zeller: C 853-395-1492 azller@samsung.co.kr 1985-10-30',\n",
       " 'Valentina Denk: C 492.333.1932 vdenk@weird-email.com 1993-01-02',\n",
       " 'Lola-Rose Coates: C 593*492*3212 lr-coates@something.net 1992-08-15']"
      ]
     },
     "execution_count": 47,
     "metadata": {},
     "output_type": "execute_result"
    }
   ],
   "source": [
    "pattern = \"\"\" (.+) # Group 1\n",
    "              (?::\\s) # Non-capture group\n",
    "              (\\w)    # Group2\n",
    "              (?:\\s)   #Non-captured group\n",
    "              (.+?)   # Group 3\n",
    "              (?:\\s)   # Non-captured group\n",
    "              (.+?)   # Group 4\n",
    "              (?:\\s) # Non-captured group\n",
    "              (.+) #Group 5  \n",
    "    \n",
    "        \"\"\"\n",
    "#refence by group numbers\n",
    "[match.group() for match in re.finditer(pattern, text, re.VERBOSE)]"
   ]
  },
  {
   "cell_type": "code",
   "execution_count": 48,
   "metadata": {},
   "outputs": [
    {
     "data": {
      "text/plain": [
       "['Ronald Mayr',\n",
       " 'Bell Kassulke',\n",
       " 'Jacqueline Rupp',\n",
       " 'Alexander Zeller',\n",
       " 'Valentina Denk',\n",
       " 'Lola-Rose Coates']"
      ]
     },
     "execution_count": 48,
     "metadata": {},
     "output_type": "execute_result"
    }
   ],
   "source": [
    "[match.group(1) for match in re.finditer(pattern, text, re.VERBOSE)]"
   ]
  },
  {
   "cell_type": "code",
   "execution_count": 49,
   "metadata": {},
   "outputs": [
    {
     "data": {
      "text/plain": [
       "['A', 'B', 'A', 'C', 'C', 'C']"
      ]
     },
     "execution_count": 49,
     "metadata": {},
     "output_type": "execute_result"
    }
   ],
   "source": [
    "[match.group(2) for match in re.finditer(pattern, text, re.VERBOSE)]"
   ]
  },
  {
   "cell_type": "code",
   "execution_count": 50,
   "metadata": {},
   "outputs": [
    {
     "data": {
      "text/plain": [
       "['505-345-5816',\n",
       " '714-325-5816',\n",
       " '734-851-2281',\n",
       " '853-395-1492',\n",
       " '492.333.1932',\n",
       " '593*492*3212']"
      ]
     },
     "execution_count": 50,
     "metadata": {},
     "output_type": "execute_result"
    }
   ],
   "source": [
    "[match.group(3) for match in re.finditer(pattern, text, re.VERBOSE)]"
   ]
  },
  {
   "cell_type": "code",
   "execution_count": 51,
   "metadata": {},
   "outputs": [
    {
     "data": {
      "text/plain": [
       "['rmay@gmail.com',\n",
       " 'bkassulke@umich.edu',\n",
       " 'jrupp@fancy.org',\n",
       " 'azller@samsung.co.kr',\n",
       " 'vdenk@weird-email.com',\n",
       " 'lr-coates@something.net']"
      ]
     },
     "execution_count": 51,
     "metadata": {},
     "output_type": "execute_result"
    }
   ],
   "source": [
    "[match.group(4) for match in re.finditer(pattern, text, re.VERBOSE)]"
   ]
  },
  {
   "cell_type": "code",
   "execution_count": 52,
   "metadata": {},
   "outputs": [
    {
     "data": {
      "text/plain": [
       "['1989-04-20',\n",
       " '1990/03/20',\n",
       " '1978-05-11',\n",
       " '1985-10-30',\n",
       " '1993-01-02',\n",
       " '1992-08-15']"
      ]
     },
     "execution_count": 52,
     "metadata": {},
     "output_type": "execute_result"
    }
   ],
   "source": [
    "[match.group(5) for match in re.finditer(pattern, text, re.VERBOSE)]"
   ]
  },
  {
   "cell_type": "code",
   "execution_count": 53,
   "metadata": {},
   "outputs": [
    {
     "data": {
      "text/plain": [
       "['Ronald Mayr',\n",
       " 'Bell Kassulke',\n",
       " 'Jacqueline Rupp',\n",
       " 'Alexander Zeller',\n",
       " 'Valentina Denk',\n",
       " 'Lola-Rose Coates']"
      ]
     },
     "execution_count": 53,
     "metadata": {},
     "output_type": "execute_result"
    }
   ],
   "source": [
    "pattern = \"\"\" (?P<fullname>.+) # Group 1 Fullnames\n",
    "              (?::\\s) # Non-capture group\n",
    "              (?P<grades>\\w)    # Group 2 Grades\n",
    "              (?:\\s)   #Non-captured group\n",
    "              (?P<phone>.+?)   # Group 3 Phone numbers\n",
    "              (?:\\s)   # Non-captured group\n",
    "              (?P<email>.+?)   # Group 4 Emails\n",
    "              (?:\\s) # Non-captured group\n",
    "              (?P<birthday>.+) #Group 5   Birthdays\n",
    "    \n",
    "        \"\"\"\n",
    "#reference by group names\n",
    "[match.group('fullname') for match in re.finditer(pattern, text, re.VERBOSE)]"
   ]
  },
  {
   "cell_type": "code",
   "execution_count": 54,
   "metadata": {
    "scrolled": false
   },
   "outputs": [
    {
     "data": {
      "text/plain": [
       "['rmay@gmail.com',\n",
       " 'bkassulke@umich.edu',\n",
       " 'jrupp@fancy.org',\n",
       " 'azller@samsung.co.kr',\n",
       " 'vdenk@weird-email.com',\n",
       " 'lr-coates@something.net']"
      ]
     },
     "execution_count": 54,
     "metadata": {},
     "output_type": "execute_result"
    }
   ],
   "source": [
    "[match.group('email') for match in re.finditer(pattern, text, re.VERBOSE)]"
   ]
  },
  {
   "cell_type": "markdown",
   "metadata": {},
   "source": [
    "## Extract info of all student who had a grade A"
   ]
  },
  {
   "cell_type": "code",
   "execution_count": 56,
   "metadata": {},
   "outputs": [
    {
     "name": "stdout",
     "output_type": "stream",
     "text": [
      "Ronald Mayr: A 505-345-5816 rmay@gmail.com 1989-04-20\n",
      "Bell Kassulke: B 714-325-5816 bkassulke@umich.edu 1990/03/20\n",
      "Jacqueline Rupp: A 734-851-2281 jrupp@fancy.org 1978-05-11\n",
      "Alexander Zeller: C 853-395-1492 azller@samsung.co.kr 1985-10-30\n",
      "Valentina Denk: C 492.333.1932 vdenk@weird-email.com 1993-01-02\n",
      "Lola-Rose Coates: C 593*492*3212 lr-coates@something.net 1992-08-15\n"
     ]
    }
   ],
   "source": [
    "print(text)"
   ]
  },
  {
   "cell_type": "code",
   "execution_count": 55,
   "metadata": {},
   "outputs": [
    {
     "data": {
      "text/plain": [
       "['Ronald Mayr', 'Jacqueline Rupp']"
      ]
     },
     "execution_count": 55,
     "metadata": {},
     "output_type": "execute_result"
    }
   ],
   "source": [
    "pattern = \"\"\" (?P<fullname>.+) # Group 1 Fullnames\n",
    "              (?::\\s) # Non-capture group\n",
    "              (?P<grades>[A])    # Group 2 Grades\n",
    "              (?:\\s)   #Non-captured group\n",
    "              (?P<phone>.+?)   # Group 3 Phone numbers\n",
    "              (?:\\s)   # Non-captured group\n",
    "              (?P<email>.+?)   # Group 4 Emails\n",
    "              (?:\\s) # Non-captured group\n",
    "              (?P<birthday>.+) #Group 5   Birthdays\n",
    "    \n",
    "        \"\"\"\n",
    "#reference by group names\n",
    "[match.group('fullname') for match in re.finditer(pattern, text, re.VERBOSE)]"
   ]
  },
  {
   "cell_type": "code",
   "execution_count": 57,
   "metadata": {},
   "outputs": [
    {
     "data": {
      "text/plain": [
       "['Ronald Mayr', 'Jacqueline Rupp']"
      ]
     },
     "execution_count": 57,
     "metadata": {},
     "output_type": "execute_result"
    }
   ],
   "source": [
    "[match.group(1) for match in re.finditer(pattern, text, re.VERBOSE)]"
   ]
  },
  {
   "cell_type": "markdown",
   "metadata": {},
   "source": [
    "## Not A grades"
   ]
  },
  {
   "cell_type": "code",
   "execution_count": 58,
   "metadata": {},
   "outputs": [
    {
     "data": {
      "text/plain": [
       "['Bell Kassulke', 'Alexander Zeller', 'Valentina Denk', 'Lola-Rose Coates']"
      ]
     },
     "execution_count": 58,
     "metadata": {},
     "output_type": "execute_result"
    }
   ],
   "source": [
    "pattern = \"\"\" (?P<fullname>.+) # Group 1 Fullnames\n",
    "              (?::\\s) # Non-capture group\n",
    "              (?P<grades>[^A])    # Group 2 Grades\n",
    "              (?:\\s)   #Non-captured group\n",
    "              (?P<phone>.+?)   # Group 3 Phone numbers\n",
    "              (?:\\s)   # Non-captured group\n",
    "              (?P<email>.+?)   # Group 4 Emails\n",
    "              (?:\\s) # Non-captured group\n",
    "              (?P<birthday>.+) #Group 5   Birthdays\n",
    "    \n",
    "        \"\"\"\n",
    "#reference by group names\n",
    "[match.group('fullname') for match in re.finditer(pattern, text, re.VERBOSE)]"
   ]
  },
  {
   "cell_type": "markdown",
   "metadata": {},
   "source": [
    "## Replace string with regex\n",
    "\n",
    "re.sub(regex_search_term, regex_replacement, text_before)"
   ]
  },
  {
   "cell_type": "code",
   "execution_count": 59,
   "metadata": {},
   "outputs": [
    {
     "data": {
      "text/plain": [
       "'binini'"
      ]
     },
     "execution_count": 59,
     "metadata": {},
     "output_type": "execute_result"
    }
   ],
   "source": [
    "re.sub('a','i','banana')"
   ]
  },
  {
   "cell_type": "code",
   "execution_count": 60,
   "metadata": {},
   "outputs": [
    {
     "name": "stdout",
     "output_type": "stream",
     "text": [
      "Ronald Mayr: A 505-345-5816 rmay@gmail.com 1989-04-20\n",
      "Bell Kassulke: B 714-325-5816 bkassulke@umich.edu 1990/03/20\n",
      "Jacqueline Rupp: A 734-851-2281 jrupp@fancy.org 1978-05-11\n",
      "Alexander Zeller: C 853-395-1492 azller@samsung.co.kr 1985-10-30\n",
      "Valentina Denk: C 492.333.1932 vdenk@weird-email.com 1993-01-02\n",
      "Lola-Rose Coates: C 593*492*3212 lr-coates@something.net 1992-08-15\n"
     ]
    }
   ],
   "source": [
    "print(text)"
   ]
  },
  {
   "cell_type": "code",
   "execution_count": 61,
   "metadata": {},
   "outputs": [
    {
     "name": "stdout",
     "output_type": "stream",
     "text": [
      "Ronald Mayr: A 505-345-5816 rmay@gmail.com 1989-04-20\n",
      "Bell Kassulke: B 714-325-5816 bkassulke@umich.edu 1990/03/20\n",
      "Jacqueline Rupp: A 734-851-2281 jrupp@fancy.org 1978-05-11\n",
      "Alexander Zeller: C 853-395-1492 azller@samsung.co.kr 1985-10-30\n",
      "Valentina Denk: C 492-333-1932 vdenk@weird-email.com 1993-01-02\n",
      "Lola-Rose Coates: C 593-492-3212 lr-coates@something.net 1992-08-15\n"
     ]
    }
   ],
   "source": [
    "#replace .* between phone numbers with -\n",
    "\n",
    "print(re.sub(\"(?<=\\d{3})[.*]\", \"-\", text))"
   ]
  },
  {
   "cell_type": "code",
   "execution_count": null,
   "metadata": {},
   "outputs": [],
   "source": []
  }
 ],
 "metadata": {
  "kernelspec": {
   "display_name": "Python 3",
   "language": "python",
   "name": "python3"
  },
  "language_info": {
   "codemirror_mode": {
    "name": "ipython",
    "version": 3
   },
   "file_extension": ".py",
   "mimetype": "text/x-python",
   "name": "python",
   "nbconvert_exporter": "python",
   "pygments_lexer": "ipython3",
   "version": "3.8.5"
  }
 },
 "nbformat": 4,
 "nbformat_minor": 4
}
